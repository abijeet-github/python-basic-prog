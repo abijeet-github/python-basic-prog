{
 "cells": [
  {
   "cell_type": "markdown",
   "metadata": {},
   "source": [
    "Write a Python Program to Find LCM?\n",
    "Write a Python Program to Find HCF?\n",
    "Write a Python Program to Convert Decimal to Binary, Octal and Hexadecimal?\n",
    "Write a Python Program To Find ASCII value of a character?\n",
    "Write a Python Program to Make a Simple Calculator with 4 basic mathematical operations?"
   ]
  },
  {
   "cell_type": "markdown",
   "metadata": {},
   "source": [
    "Write a Python Program to Find LCM?"
   ]
  },
  {
   "cell_type": "code",
   "execution_count": 53,
   "metadata": {},
   "outputs": [],
   "source": [
    "def factors(n):\n",
    "    factr=[]\n",
    "    for i in range(1,n+1):\n",
    "        if n%i==0:\n",
    "            factr.append(i)\n",
    "    return(factr)\n",
    "\n",
    "def LCM(m,n):\n",
    "    m_factors= factors(m)\n",
    "    n_factors= factors(n)\n",
    "    common_factors=[]\n",
    "    \n",
    "    for i in m_factors:\n",
    "        if i in n_factors:\n",
    "            common_factors.append(i)\n",
    "            \n",
    "    lcm= int((m*n)/max(common_factors))\n",
    "    \n",
    "    return (lcm)\n",
    "    \n",
    "    \n",
    "def lcm_mul(*arg):\n",
    "    lcm= LCM(arg[0], arg[1])\n",
    "    \n",
    "    \n",
    "    for i in range(2, len(arg)):\n",
    "        lcm= LCM(lcm,arg[i])\n",
    "        \n",
    "    print(lcm)\n",
    "    \n",
    "    \n",
    "        \n",
    "        "
   ]
  },
  {
   "cell_type": "code",
   "execution_count": 54,
   "metadata": {},
   "outputs": [
    {
     "name": "stdout",
     "output_type": "stream",
     "text": [
      "1155\n"
     ]
    }
   ],
   "source": [
    "lcm_mul(3,5,77)"
   ]
  },
  {
   "cell_type": "markdown",
   "metadata": {},
   "source": [
    "Write a Python Program to Find HCF?"
   ]
  },
  {
   "cell_type": "code",
   "execution_count": 50,
   "metadata": {},
   "outputs": [],
   "source": [
    "def hcf(m,n):\n",
    "    m_factors= factors(m)\n",
    "    n_factors= factors(n)\n",
    "    common_factors=[]\n",
    "    \n",
    "    for i in m_factors:\n",
    "        if i in n_factors:\n",
    "            common_factors.append(i)\n",
    "            \n",
    "    \n",
    "            \n",
    "    hcf = max(common_factors)\n",
    "    return hcf\n",
    "\n",
    "# For more than two numbers\n",
    "\n",
    "def hcf_mul(*arg):\n",
    "    l=[]\n",
    "    \n",
    "    for i in arg:\n",
    "        l.append(factors(i))\n",
    "        \n",
    "    s= set(l[0])\n",
    "        \n",
    "    for i in range(1,len(l)):\n",
    "        s= s.intersection(set(l[i]))\n",
    "    \n",
    "    return(max(s))\n",
    "    \n",
    "        \n"
   ]
  },
  {
   "cell_type": "code",
   "execution_count": 52,
   "metadata": {},
   "outputs": [
    {
     "name": "stdout",
     "output_type": "stream",
     "text": [
      "4\n"
     ]
    }
   ],
   "source": [
    "print(hcf_mul(12,24,72,76))"
   ]
  },
  {
   "cell_type": "markdown",
   "metadata": {},
   "source": [
    "Write a Python Program to Convert Decimal to Binary, Octal and Hexadecimal?"
   ]
  },
  {
   "cell_type": "code",
   "execution_count": 92,
   "metadata": {},
   "outputs": [],
   "source": [
    "def bin_oct_hex(n,base):\n",
    "    b=''\n",
    "    while n>0:\n",
    "        if n%base <10:\n",
    "            b+= str(n%base)\n",
    "        else:\n",
    "            hexa={10:'A',11:'B',12:'C',13:'D',14:'E',15:'F'}\n",
    "            b+=hexa[n%base]\n",
    "        \n",
    "        n = n//base\n",
    "    return (b[::-1])\n",
    "        "
   ]
  },
  {
   "cell_type": "code",
   "execution_count": 93,
   "metadata": {},
   "outputs": [
    {
     "name": "stdout",
     "output_type": "stream",
     "text": [
      "10235\n"
     ]
    }
   ],
   "source": [
    "print(bin_oct_hex(4253,8))"
   ]
  },
  {
   "cell_type": "code",
   "execution_count": 94,
   "metadata": {},
   "outputs": [
    {
     "name": "stdout",
     "output_type": "stream",
     "text": [
      "109D\n"
     ]
    }
   ],
   "source": [
    "print(bin_oct_hex(4253,16))"
   ]
  },
  {
   "cell_type": "code",
   "execution_count": 95,
   "metadata": {},
   "outputs": [
    {
     "name": "stdout",
     "output_type": "stream",
     "text": [
      "1000010011101\n"
     ]
    }
   ],
   "source": [
    "print(bin_oct_hex(4253,2))"
   ]
  },
  {
   "cell_type": "markdown",
   "metadata": {},
   "source": [
    "Write a Python Program To Find ASCII value of a character? "
   ]
  },
  {
   "cell_type": "code",
   "execution_count": 106,
   "metadata": {},
   "outputs": [],
   "source": [
    "def ascii(ch):\n",
    "    print('ASCII value is '+str(ord(ch)))\n",
    "    "
   ]
  },
  {
   "cell_type": "code",
   "execution_count": 109,
   "metadata": {},
   "outputs": [
    {
     "name": "stdout",
     "output_type": "stream",
     "text": [
      "ASCII value is 65\n"
     ]
    }
   ],
   "source": [
    "ascii('A')"
   ]
  },
  {
   "cell_type": "markdown",
   "metadata": {},
   "source": [
    " Write a Python Program to Make a Simple Calculator with 4 basic mathematical operations?"
   ]
  },
  {
   "cell_type": "code",
   "execution_count": 113,
   "metadata": {},
   "outputs": [],
   "source": [
    "def calc(a,b,operation):\n",
    "    if operation == '+':\n",
    "        return(a+b)\n",
    "    elif operation == '-':\n",
    "        return (a-b)\n",
    "    elif operation == '*':\n",
    "        return (a*b)\n",
    "    elif operation == '/':\n",
    "        return (a/b)\n",
    "    \n",
    "    "
   ]
  },
  {
   "cell_type": "code",
   "execution_count": 116,
   "metadata": {},
   "outputs": [
    {
     "data": {
      "text/plain": [
       "0.5"
      ]
     },
     "execution_count": 116,
     "metadata": {},
     "output_type": "execute_result"
    }
   ],
   "source": [
    "calc(2,4,'/')"
   ]
  },
  {
   "cell_type": "code",
   "execution_count": null,
   "metadata": {},
   "outputs": [],
   "source": []
  }
 ],
 "metadata": {
  "kernelspec": {
   "display_name": "Python 3",
   "language": "python",
   "name": "python3"
  },
  "language_info": {
   "codemirror_mode": {
    "name": "ipython",
    "version": 3
   },
   "file_extension": ".py",
   "mimetype": "text/x-python",
   "name": "python",
   "nbconvert_exporter": "python",
   "pygments_lexer": "ipython3",
   "version": "3.8.5"
  }
 },
 "nbformat": 4,
 "nbformat_minor": 4
}
