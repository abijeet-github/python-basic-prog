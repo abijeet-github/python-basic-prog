{
 "cells": [
  {
   "cell_type": "code",
   "execution_count": 1,
   "metadata": {},
   "outputs": [],
   "source": [
    "#Write a Python program to convert kilometers to miles?\n"
   ]
  },
  {
   "cell_type": "code",
   "execution_count": 6,
   "metadata": {},
   "outputs": [
    {
     "name": "stdout",
     "output_type": "stream",
     "text": [
      "\n",
      "invalid literal for int() with base 10: ''\n"
     ]
    }
   ],
   "source": [
    "try:\n",
    "    \n",
    "    print(.621*(int(input())))\n",
    "except Exception as e:\n",
    "    print(e)\n",
    "    "
   ]
  },
  {
   "cell_type": "code",
   "execution_count": null,
   "metadata": {},
   "outputs": [],
   "source": [
    "#Write a Python program to convert Celsius to Fahrenheit?\n"
   ]
  },
  {
   "cell_type": "code",
   "execution_count": 9,
   "metadata": {},
   "outputs": [
    {
     "name": "stdout",
     "output_type": "stream",
     "text": [
      "fsf\n",
      "invalid literal for int() with base 10: 'fsf'\n"
     ]
    }
   ],
   "source": [
    "try:\n",
    "    print(int(input())*(9/5)+32)\n",
    "    \n",
    "except Exception as e:\n",
    "    print(e)"
   ]
  },
  {
   "cell_type": "code",
   "execution_count": 10,
   "metadata": {},
   "outputs": [],
   "source": [
    "#Write a Python program to display calendar?\n"
   ]
  },
  {
   "cell_type": "code",
   "execution_count": 10,
   "metadata": {},
   "outputs": [
    {
     "name": "stdout",
     "output_type": "stream",
     "text": [
      "hftr\n",
      "invalid literal for int() with base 10: 'hftr'\n"
     ]
    }
   ],
   "source": [
    "import calendar \n",
    "try:    \n",
    "    yy = 2017\n",
    "    mm = 11\n",
    "  \n",
    "    print(calendar.calendar(int(input()))) \n",
    "except Exception as e:\n",
    "    print(e)"
   ]
  },
  {
   "cell_type": "code",
   "execution_count": 6,
   "metadata": {},
   "outputs": [],
   "source": [
    "#Write a Python program to solve quadratic equation?"
   ]
  },
  {
   "cell_type": "code",
   "execution_count": 20,
   "metadata": {},
   "outputs": [
    {
     "name": "stdout",
     "output_type": "stream",
     "text": [
      "4 6 2\n",
      "-8.0 -16.0\n"
     ]
    }
   ],
   "source": [
    "import math\n",
    "\n",
    "# a,b,c are cofficient of quadratic\n",
    "\n",
    "def quad(a,b,c):\n",
    "\n",
    "    try:\n",
    "        d=math.sqrt(b*b-4*a*c)\n",
    "\n",
    "        root1=(-b+d)/2*a\n",
    "        root2= (-b-d)/2*a\n",
    "        print(root1,root2)\n",
    "    except Exception as e:\n",
    "        print(e)\n",
    "        \n",
    "a,b,c = map(int, input().split())\n",
    "\n",
    "quad(a,b,c)\n",
    "\n"
   ]
  },
  {
   "cell_type": "code",
   "execution_count": 16,
   "metadata": {},
   "outputs": [],
   "source": [
    "#Write a Python program to swap two variables without temp variable?"
   ]
  },
  {
   "cell_type": "code",
   "execution_count": 18,
   "metadata": {},
   "outputs": [
    {
     "name": "stdout",
     "output_type": "stream",
     "text": [
      "dad hdfh\n",
      "hdfh dad\n"
     ]
    }
   ],
   "source": [
    "def swap(x,y):\n",
    "    x,y= y,x\n",
    "    print(x,y)\n",
    "\n",
    "x,y = input().split()\n",
    "\n",
    "swap(x,y)"
   ]
  },
  {
   "cell_type": "code",
   "execution_count": null,
   "metadata": {},
   "outputs": [],
   "source": []
  }
 ],
 "metadata": {
  "kernelspec": {
   "display_name": "Python 3",
   "language": "python",
   "name": "python3"
  },
  "language_info": {
   "codemirror_mode": {
    "name": "ipython",
    "version": 3
   },
   "file_extension": ".py",
   "mimetype": "text/x-python",
   "name": "python",
   "nbconvert_exporter": "python",
   "pygments_lexer": "ipython3",
   "version": "3.8.5"
  }
 },
 "nbformat": 4,
 "nbformat_minor": 4
}
